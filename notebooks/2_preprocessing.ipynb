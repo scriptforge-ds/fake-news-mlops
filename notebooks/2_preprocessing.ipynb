{
 "cells": [
  {
   "cell_type": "markdown",
   "id": "9f36b3c5",
   "metadata": {},
   "source": [
    "## 1. Setup & Imports"
   ]
  },
  {
   "cell_type": "code",
   "execution_count": 1,
   "id": "76749c04",
   "metadata": {},
   "outputs": [],
   "source": [
    "# Core\n",
    "import os\n",
    "import pandas as pd\n",
    "import numpy as np\n",
    "from tqdm import tqdm\n",
    "from sklearn.model_selection import train_test_split\n",
    "\n",
    "# Hugging Face\n",
    "from datasets import Dataset, DatasetDict\n",
    "from transformers import AutoTokenizer\n",
    "\n",
    "# Plotting\n",
    "import matplotlib.pyplot as plt\n",
    "import seaborn as sns\n",
    "sns.set(style=\"whitegrid\")\n",
    "\n",
    "# Ensure results folder exists\n",
    "os.makedirs(\"../data/processed/tokenized\", exist_ok=True)"
   ]
  },
  {
   "cell_type": "markdown",
   "id": "70a8bd29",
   "metadata": {},
   "source": [
    "## 2. Load Cleaned Dataset"
   ]
  },
  {
   "cell_type": "code",
   "execution_count": 2,
   "id": "02c8acde",
   "metadata": {},
   "outputs": [
    {
     "name": "stdout",
     "output_type": "stream",
     "text": [
      "(44898, 9)\n"
     ]
    },
    {
     "data": {
      "text/html": [
       "<div>\n",
       "<style scoped>\n",
       "    .dataframe tbody tr th:only-of-type {\n",
       "        vertical-align: middle;\n",
       "    }\n",
       "\n",
       "    .dataframe tbody tr th {\n",
       "        vertical-align: top;\n",
       "    }\n",
       "\n",
       "    .dataframe thead th {\n",
       "        text-align: right;\n",
       "    }\n",
       "</style>\n",
       "<table border=\"1\" class=\"dataframe\">\n",
       "  <thead>\n",
       "    <tr style=\"text-align: right;\">\n",
       "      <th></th>\n",
       "      <th>title</th>\n",
       "      <th>text</th>\n",
       "      <th>subject</th>\n",
       "      <th>date</th>\n",
       "      <th>label</th>\n",
       "      <th>label_name</th>\n",
       "      <th>text_len</th>\n",
       "      <th>title_len</th>\n",
       "      <th>clean_text</th>\n",
       "    </tr>\n",
       "  </thead>\n",
       "  <tbody>\n",
       "    <tr>\n",
       "      <th>0</th>\n",
       "      <td>BREAKING: GOP Chairman Grassley Has Had Enoug...</td>\n",
       "      <td>Donald Trump s White House is in chaos, and th...</td>\n",
       "      <td>News</td>\n",
       "      <td>July 21, 2017</td>\n",
       "      <td>1</td>\n",
       "      <td>Fake</td>\n",
       "      <td>361</td>\n",
       "      <td>11</td>\n",
       "      <td>donald trump white house chaos trying cover ru...</td>\n",
       "    </tr>\n",
       "    <tr>\n",
       "      <th>1</th>\n",
       "      <td>Failed GOP Candidates Remembered In Hilarious...</td>\n",
       "      <td>Now that Donald Trump is the presumptive GOP n...</td>\n",
       "      <td>News</td>\n",
       "      <td>May 7, 2016</td>\n",
       "      <td>1</td>\n",
       "      <td>Fake</td>\n",
       "      <td>495</td>\n",
       "      <td>9</td>\n",
       "      <td>donald trump presumptive gop nominee time reme...</td>\n",
       "    </tr>\n",
       "    <tr>\n",
       "      <th>2</th>\n",
       "      <td>Mike Pence’s New DC Neighbors Are HILARIOUSLY...</td>\n",
       "      <td>Mike Pence is a huge homophobe. He supports ex...</td>\n",
       "      <td>News</td>\n",
       "      <td>December 3, 2016</td>\n",
       "      <td>1</td>\n",
       "      <td>Fake</td>\n",
       "      <td>379</td>\n",
       "      <td>14</td>\n",
       "      <td>mike pence huge homophobe supports exgay conve...</td>\n",
       "    </tr>\n",
       "    <tr>\n",
       "      <th>3</th>\n",
       "      <td>California AG pledges to defend birth control ...</td>\n",
       "      <td>SAN FRANCISCO (Reuters) - California Attorney ...</td>\n",
       "      <td>politicsNews</td>\n",
       "      <td>October 6, 2017</td>\n",
       "      <td>0</td>\n",
       "      <td>Real</td>\n",
       "      <td>88</td>\n",
       "      <td>9</td>\n",
       "      <td>san francisco reuters california attorney gene...</td>\n",
       "    </tr>\n",
       "    <tr>\n",
       "      <th>4</th>\n",
       "      <td>AZ RANCHERS Living On US-Mexico Border Destroy...</td>\n",
       "      <td>Twisted reasoning is all that comes from Pelos...</td>\n",
       "      <td>politics</td>\n",
       "      <td>Apr 25, 2017</td>\n",
       "      <td>1</td>\n",
       "      <td>Fake</td>\n",
       "      <td>138</td>\n",
       "      <td>19</td>\n",
       "      <td>twisted reasoning comes pelosi days especially...</td>\n",
       "    </tr>\n",
       "  </tbody>\n",
       "</table>\n",
       "</div>"
      ],
      "text/plain": [
       "                                               title  \\\n",
       "0   BREAKING: GOP Chairman Grassley Has Had Enoug...   \n",
       "1   Failed GOP Candidates Remembered In Hilarious...   \n",
       "2   Mike Pence’s New DC Neighbors Are HILARIOUSLY...   \n",
       "3  California AG pledges to defend birth control ...   \n",
       "4  AZ RANCHERS Living On US-Mexico Border Destroy...   \n",
       "\n",
       "                                                text       subject  \\\n",
       "0  Donald Trump s White House is in chaos, and th...          News   \n",
       "1  Now that Donald Trump is the presumptive GOP n...          News   \n",
       "2  Mike Pence is a huge homophobe. He supports ex...          News   \n",
       "3  SAN FRANCISCO (Reuters) - California Attorney ...  politicsNews   \n",
       "4  Twisted reasoning is all that comes from Pelos...      politics   \n",
       "\n",
       "               date  label label_name  text_len  title_len  \\\n",
       "0     July 21, 2017      1       Fake       361         11   \n",
       "1       May 7, 2016      1       Fake       495          9   \n",
       "2  December 3, 2016      1       Fake       379         14   \n",
       "3  October 6, 2017       0       Real        88          9   \n",
       "4      Apr 25, 2017      1       Fake       138         19   \n",
       "\n",
       "                                          clean_text  \n",
       "0  donald trump white house chaos trying cover ru...  \n",
       "1  donald trump presumptive gop nominee time reme...  \n",
       "2  mike pence huge homophobe supports exgay conve...  \n",
       "3  san francisco reuters california attorney gene...  \n",
       "4  twisted reasoning comes pelosi days especially...  "
      ]
     },
     "execution_count": 2,
     "metadata": {},
     "output_type": "execute_result"
    }
   ],
   "source": [
    "df = pd.read_csv(\"../data/processed/cleaned_for_preprocessing.csv\")\n",
    "print(df.shape)\n",
    "df.head()"
   ]
  },
  {
   "cell_type": "markdown",
   "id": "7360105b",
   "metadata": {},
   "source": [
    "## 3. Minimal Text Cleaning"
   ]
  },
  {
   "cell_type": "code",
   "execution_count": 3,
   "id": "be318037",
   "metadata": {},
   "outputs": [
    {
     "data": {
      "text/html": [
       "<div>\n",
       "<style scoped>\n",
       "    .dataframe tbody tr th:only-of-type {\n",
       "        vertical-align: middle;\n",
       "    }\n",
       "\n",
       "    .dataframe tbody tr th {\n",
       "        vertical-align: top;\n",
       "    }\n",
       "\n",
       "    .dataframe thead th {\n",
       "        text-align: right;\n",
       "    }\n",
       "</style>\n",
       "<table border=\"1\" class=\"dataframe\">\n",
       "  <thead>\n",
       "    <tr style=\"text-align: right;\">\n",
       "      <th></th>\n",
       "      <th>combined_text</th>\n",
       "      <th>label</th>\n",
       "    </tr>\n",
       "  </thead>\n",
       "  <tbody>\n",
       "    <tr>\n",
       "      <th>0</th>\n",
       "      <td>BREAKING: GOP Chairman Grassley Has Had Enough...</td>\n",
       "      <td>1</td>\n",
       "    </tr>\n",
       "    <tr>\n",
       "      <th>1</th>\n",
       "      <td>Failed GOP Candidates Remembered In Hilarious ...</td>\n",
       "      <td>1</td>\n",
       "    </tr>\n",
       "    <tr>\n",
       "      <th>2</th>\n",
       "      <td>Mike Pence’s New DC Neighbors Are HILARIOUSLY ...</td>\n",
       "      <td>1</td>\n",
       "    </tr>\n",
       "    <tr>\n",
       "      <th>3</th>\n",
       "      <td>California AG pledges to defend birth control ...</td>\n",
       "      <td>0</td>\n",
       "    </tr>\n",
       "    <tr>\n",
       "      <th>4</th>\n",
       "      <td>AZ RANCHERS Living On US-Mexico Border Destroy...</td>\n",
       "      <td>1</td>\n",
       "    </tr>\n",
       "  </tbody>\n",
       "</table>\n",
       "</div>"
      ],
      "text/plain": [
       "                                       combined_text  label\n",
       "0  BREAKING: GOP Chairman Grassley Has Had Enough...      1\n",
       "1  Failed GOP Candidates Remembered In Hilarious ...      1\n",
       "2  Mike Pence’s New DC Neighbors Are HILARIOUSLY ...      1\n",
       "3  California AG pledges to defend birth control ...      0\n",
       "4  AZ RANCHERS Living On US-Mexico Border Destroy...      1"
      ]
     },
     "execution_count": 3,
     "metadata": {},
     "output_type": "execute_result"
    }
   ],
   "source": [
    "import re\n",
    "import html\n",
    "\n",
    "def clean_minimal(text):\n",
    "    text = html.unescape(text)\n",
    "    text = re.sub(r\"http\\S+|www\\S+\", \"\", text)\n",
    "    text = re.sub(r\"<.*?>\", \" \", text)\n",
    "    text = re.sub(r\"\\s+\", \" \", text)\n",
    "    return text.strip()\n",
    "\n",
    "df[\"combined_text\"] = (df[\"title\"].fillna(\"\") + \" \" + df[\"text\"].fillna(\"\")).apply(clean_minimal)\n",
    "df = df[[\"combined_text\", \"label\"]]\n",
    "df.head()"
   ]
  },
  {
   "cell_type": "markdown",
   "id": "3cf781a7",
   "metadata": {},
   "source": [
    "## 4. Stratified Train/Validation/Test Split"
   ]
  },
  {
   "cell_type": "code",
   "execution_count": 4,
   "id": "8be50806",
   "metadata": {},
   "outputs": [
    {
     "name": "stdout",
     "output_type": "stream",
     "text": [
      "Train: 35918 samples | Fake: 18785 | Real: 17133\n",
      "Validation: 4490 samples | Fake: 2348 | Real: 2142\n",
      "Test: 4490 samples | Fake: 2348 | Real: 2142\n"
     ]
    }
   ],
   "source": [
    "train_df, temp_df = train_test_split(df, test_size=0.2, stratify=df[\"label\"], random_state=42)\n",
    "val_df, test_df = train_test_split(temp_df, test_size=0.5, stratify=temp_df[\"label\"], random_state=42)\n",
    "\n",
    "for name, d in zip([\"Train\", \"Validation\", \"Test\"], [train_df, val_df, test_df]):\n",
    "    print(f\"{name}: {len(d)} samples | Fake: {d['label'].sum()} | Real: {(1 - d['label']).sum()}\")\n",
    "\n",
    "train_df.to_csv(\"../data/processed/train.csv\", index=False)\n",
    "val_df.to_csv(\"../data/processed/val.csv\", index=False)\n",
    "test_df.to_csv(\"../data/processed/test.csv\", index=False)"
   ]
  },
  {
   "cell_type": "markdown",
   "id": "dc9b34bc",
   "metadata": {},
   "source": [
    "## 5. Load Tokenizer (DistilBERT)"
   ]
  },
  {
   "cell_type": "code",
   "execution_count": 5,
   "id": "a42d3088",
   "metadata": {},
   "outputs": [],
   "source": [
    "tokenizer = AutoTokenizer.from_pretrained(\"distilbert-base-uncased\")\n",
    "MAX_LEN = 256"
   ]
  },
  {
   "cell_type": "markdown",
   "id": "037666f5",
   "metadata": {},
   "source": [
    "## 6. Convert DataFrames → HF Datasets"
   ]
  },
  {
   "cell_type": "code",
   "execution_count": 6,
   "id": "19ebe045",
   "metadata": {},
   "outputs": [
    {
     "data": {
      "text/plain": [
       "DatasetDict({\n",
       "    train: Dataset({\n",
       "        features: ['combined_text', 'label', '__index_level_0__'],\n",
       "        num_rows: 35918\n",
       "    })\n",
       "    validation: Dataset({\n",
       "        features: ['combined_text', 'label', '__index_level_0__'],\n",
       "        num_rows: 4490\n",
       "    })\n",
       "    test: Dataset({\n",
       "        features: ['combined_text', 'label', '__index_level_0__'],\n",
       "        num_rows: 4490\n",
       "    })\n",
       "})"
      ]
     },
     "execution_count": 6,
     "metadata": {},
     "output_type": "execute_result"
    }
   ],
   "source": [
    "train_ds = Dataset.from_pandas(train_df)\n",
    "val_ds = Dataset.from_pandas(val_df)\n",
    "test_ds = Dataset.from_pandas(test_df)\n",
    "\n",
    "dataset = DatasetDict({\n",
    "    \"train\": train_ds,\n",
    "    \"validation\": val_ds,\n",
    "    \"test\": test_ds\n",
    "})\n",
    "\n",
    "dataset"
   ]
  },
  {
   "cell_type": "markdown",
   "id": "7e1175cf",
   "metadata": {},
   "source": [
    "## 7. Tokenization Function"
   ]
  },
  {
   "cell_type": "code",
   "execution_count": 7,
   "id": "8ea26587",
   "metadata": {},
   "outputs": [
    {
     "data": {
      "application/vnd.jupyter.widget-view+json": {
       "model_id": "12631f4b4e3b47ea93b76d968ad9af39",
       "version_major": 2,
       "version_minor": 0
      },
      "text/plain": [
       "Map:   0%|          | 0/35918 [00:00<?, ? examples/s]"
      ]
     },
     "metadata": {},
     "output_type": "display_data"
    },
    {
     "data": {
      "application/vnd.jupyter.widget-view+json": {
       "model_id": "ae7c13fdfa2b429c88c96de90bbe11f6",
       "version_major": 2,
       "version_minor": 0
      },
      "text/plain": [
       "Map:   0%|          | 0/4490 [00:00<?, ? examples/s]"
      ]
     },
     "metadata": {},
     "output_type": "display_data"
    },
    {
     "data": {
      "application/vnd.jupyter.widget-view+json": {
       "model_id": "25493a3c157c45649d89c1ca5c5b1bb0",
       "version_major": 2,
       "version_minor": 0
      },
      "text/plain": [
       "Map:   0%|          | 0/4490 [00:00<?, ? examples/s]"
      ]
     },
     "metadata": {},
     "output_type": "display_data"
    },
    {
     "data": {
      "text/plain": [
       "DatasetDict({\n",
       "    train: Dataset({\n",
       "        features: ['label', '__index_level_0__', 'input_ids', 'attention_mask'],\n",
       "        num_rows: 35918\n",
       "    })\n",
       "    validation: Dataset({\n",
       "        features: ['label', '__index_level_0__', 'input_ids', 'attention_mask'],\n",
       "        num_rows: 4490\n",
       "    })\n",
       "    test: Dataset({\n",
       "        features: ['label', '__index_level_0__', 'input_ids', 'attention_mask'],\n",
       "        num_rows: 4490\n",
       "    })\n",
       "})"
      ]
     },
     "execution_count": 7,
     "metadata": {},
     "output_type": "execute_result"
    }
   ],
   "source": [
    "def tokenize_function(batch):\n",
    "    return tokenizer(\n",
    "        batch[\"combined_text\"],\n",
    "        padding=\"max_length\",\n",
    "        truncation=True,\n",
    "        max_length=MAX_LEN\n",
    "    )\n",
    "\n",
    "tokenized_datasets = dataset.map(tokenize_function, batched=True)\n",
    "tokenized_datasets = tokenized_datasets.remove_columns([\"combined_text\"])\n",
    "tokenized_datasets.set_format(\"torch\")\n",
    "\n",
    "tokenized_datasets"
   ]
  },
  {
   "cell_type": "markdown",
   "id": "b7849cda",
   "metadata": {},
   "source": [
    "## 8. Token Length Distribution (for visualization)"
   ]
  },
  {
   "cell_type": "code",
   "execution_count": 8,
   "id": "d427fc0c",
   "metadata": {},
   "outputs": [
    {
     "name": "stderr",
     "output_type": "stream",
     "text": [
      "Token indices sequence length is longer than the specified maximum sequence length for this model (541 > 512). Running this sequence through the model will result in indexing errors\n"
     ]
    },
    {
     "data": {
      "image/png": "[encoded data removed]",
      "text/plain": [
       "<Figure size 800x400 with 1 Axes>"
      ]
     },
     "metadata": {},
     "output_type": "display_data"
    },
    {
     "name": "stdout",
     "output_type": "stream",
     "text": [
      "Mean length: 526.6, 95th percentile: 1156.2499999999998\n"
     ]
    }
   ],
   "source": [
    "lengths = [\n",
    "    len(tokenizer(text)[\"input_ids\"]) \n",
    "    for text in df.sample(1000, random_state=42)[\"combined_text\"]\n",
    "]\n",
    "\n",
    "plt.figure(figsize=(8,4))\n",
    "sns.histplot(lengths, bins=40, color=\"skyblue\")\n",
    "plt.title(\"Token Length Distribution (Sampled 1000 Articles)\")\n",
    "plt.xlabel(\"Number of Tokens per Article\")\n",
    "plt.ylabel(\"Frequency\")\n",
    "plt.savefig(\"../results/eda/token_length_distribution.png\", bbox_inches=\"tight\")\n",
    "plt.show()\n",
    "\n",
    "print(f\"Mean length: {np.mean(lengths):.1f}, 95th percentile: {np.percentile(lengths, 95)}\")"
   ]
  },
  {
   "cell_type": "markdown",
   "id": "fc2eb6d3",
   "metadata": {},
   "source": [
    "## 9. Sample Decoding Check"
   ]
  },
  {
   "cell_type": "code",
   "execution_count": 9,
   "id": "c8b34dc7",
   "metadata": {},
   "outputs": [
    {
     "name": "stdout",
     "output_type": "stream",
     "text": [
      "Encoded sample keys: dict_keys(['label', '__index_level_0__', 'input_ids', 'attention_mask'])\n",
      "Decoded text:\n",
      " [CLS] epa inspector general to investigate agency chief ' s travels to oklahoma washington / new york ( reuters ) - the frequent travels of the head of the u. s. environmental protection agency, scott pruitt, to oklahoma will be investigated following congressional requests, the agency ’ s office of inspector general said on monday. pruitt ’ s many travels to his home state have fueled speculation that he intends\n",
      "Label: tensor(0)\n"
     ]
    }
   ],
   "source": [
    "sample = tokenized_datasets[\"train\"][0]\n",
    "print(\"Encoded sample keys:\", sample.keys())\n",
    "print(\"Decoded text:\\n\", tokenizer.decode(sample[\"input_ids\"][:80]))\n",
    "print(\"Label:\", sample[\"label\"])"
   ]
  },
  {
   "cell_type": "markdown",
   "id": "615a1306",
   "metadata": {},
   "source": [
    "## 10. Save Tokenized Dataset for Training"
   ]
  },
  {
   "cell_type": "code",
   "execution_count": 10,
   "id": "6d29b476",
   "metadata": {},
   "outputs": [
    {
     "data": {
      "application/vnd.jupyter.widget-view+json": {
       "model_id": "52b41ae28e6e4cd898f7a91a0cb90a84",
       "version_major": 2,
       "version_minor": 0
      },
      "text/plain": [
       "Saving the dataset (0/1 shards):   0%|          | 0/35918 [00:00<?, ? examples/s]"
      ]
     },
     "metadata": {},
     "output_type": "display_data"
    },
    {
     "data": {
      "application/vnd.jupyter.widget-view+json": {
       "model_id": "abf8173e49e241779c0109cca6ed17cd",
       "version_major": 2,
       "version_minor": 0
      },
      "text/plain": [
       "Saving the dataset (0/1 shards):   0%|          | 0/4490 [00:00<?, ? examples/s]"
      ]
     },
     "metadata": {},
     "output_type": "display_data"
    },
    {
     "data": {
      "application/vnd.jupyter.widget-view+json": {
       "model_id": "554ca6e4733d4859b9d1d59739beee5e",
       "version_major": 2,
       "version_minor": 0
      },
      "text/plain": [
       "Saving the dataset (0/1 shards):   0%|          | 0/4490 [00:00<?, ? examples/s]"
      ]
     },
     "metadata": {},
     "output_type": "display_data"
    },
    {
     "name": "stdout",
     "output_type": "stream",
     "text": [
      "✅ Tokenized datasets saved to data/processed/tokenized/\n"
     ]
    }
   ],
   "source": [
    "tokenized_datasets.save_to_disk(\"../data/processed/tokenized\")\n",
    "print(\"✅ Tokenized datasets saved to data/processed/tokenized/\")"
   ]
  },
  {
   "cell_type": "markdown",
   "id": "b727fd04",
   "metadata": {},
   "source": [
    "## 11. Preprocessing Summary"
   ]
  },
  {
   "cell_type": "markdown",
   "id": "9fb258aa",
   "metadata": {},
   "source": [
    "1. Loaded cleaned dataset from Commit 1\n",
    "2. Performed minimal text cleaning (HTML, URLs, spacing)\n",
    "3. Combined title + body into single column\n",
    "4. Stratified train/val/test split (80/10/10)\n",
    "5. Tokenized using DistilBERT (max length 256)\n",
    "6. Saved tokenized dataset for fine-tuning"
   ]
  }
 ],
 "metadata": {
  "kernelspec": {
   "display_name": ".venv (3.10.7)",
   "language": "python",
   "name": "python3"
  },
  "language_info": {
   "codemirror_mode": {
    "name": "ipython",
    "version": 3
   },
   "file_extension": ".py",
   "mimetype": "text/x-python",
   "name": "python",
   "nbconvert_exporter": "python",
   "pygments_lexer": "ipython3",
   "version": "3.10.7"
  }
 },
 "nbformat": 4,
 "nbformat_minor": 5
}
